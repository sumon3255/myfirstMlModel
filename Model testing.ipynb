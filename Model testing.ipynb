{
 "cells": [
  {
   "cell_type": "code",
   "execution_count": 2,
   "id": "2a6fc77b",
   "metadata": {},
   "outputs": [],
   "source": [
    "from joblib import dump, load\n",
    "import numpy as np\n",
    "model = load('Dragon.joblib')"
   ]
  },
  {
   "cell_type": "code",
   "execution_count": 13,
   "id": "c68d95b0",
   "metadata": {},
   "outputs": [
    {
     "data": {
      "text/plain": [
       "array([22.431])"
      ]
     },
     "execution_count": 13,
     "metadata": {},
     "output_type": "execute_result"
    }
   ],
   "source": [
    "features = np.array([[4.8190e-02, 8.0000e+01, 3.6400e+00, 0.0000e+00, 3.9200e-01,\n",
    "       6.1080e+00, 3.2000e+01, 9.2203e+00, 1.0000e+00, 3.1500e+02,\n",
    "       1.6400e+01, 3.9289e+02, 6.5700e+00]])\n",
    "model.predict(features )"
   ]
  },
  {
   "cell_type": "markdown",
   "id": "d943fabf",
   "metadata": {},
   "source": []
  }
 ],
 "metadata": {
  "kernelspec": {
   "display_name": "Python 3",
   "language": "python",
   "name": "python3"
  },
  "language_info": {
   "codemirror_mode": {
    "name": "ipython",
    "version": 3
   },
   "file_extension": ".py",
   "mimetype": "text/x-python",
   "name": "python",
   "nbconvert_exporter": "python",
   "pygments_lexer": "ipython3",
   "version": "3.9.1"
  }
 },
 "nbformat": 4,
 "nbformat_minor": 5
}
